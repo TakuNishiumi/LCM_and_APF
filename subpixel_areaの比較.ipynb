{
 "cells": [
  {
   "cell_type": "code",
   "execution_count": 1,
   "metadata": {},
   "outputs": [],
   "source": [
    "import numpy as np # 数学関数、配列を扱うためのパッケージ\n",
    "import matplotlib.pyplot as plt # 描画のためのパッケージ\n",
    "from IPython.display import display\n"
   ]
  },
  {
   "cell_type": "code",
   "execution_count": 2,
   "metadata": {},
   "outputs": [],
   "source": [
    "subpixel=5 # subpixelsの値,1pixelを何分割するか\n",
    "xc, yc = 1024, 1024 # apertureの中心\n",
    "div = 1.0 / subpixel # 1 subpixelあたりの長さ\n",
    "\n",
    "a = np.arange(0,2048.5, div)\n",
    "x, y = np.meshgrid(a, a)\n",
    "R = np.sqrt((x-xc)**2+(y-yc)**2) # Rが(xc,yc)からの距離を表したマップになっている。"
   ]
  },
  {
   "cell_type": "code",
   "execution_count": 3,
   "metadata": {},
   "outputs": [
    {
     "data": {
      "text/plain": [
       "<matplotlib.image.AxesImage at 0x7fb2bc2d4080>"
      ]
     },
     "execution_count": 3,
     "metadata": {},
     "output_type": "execute_result"
    },
    {
     "data": {
      "image/png": "[encoded data removed]",
      "text/plain": [
       "<Figure size 432x288 with 1 Axes>"
      ]
     },
     "metadata": {
      "needs_background": "light"
     },
     "output_type": "display_data"
    }
   ],
   "source": [
    "plt.imshow(R<1024) # 横軸縦軸は無視"
   ]
  },
  {
   "cell_type": "code",
   "execution_count": 4,
   "metadata": {},
   "outputs": [
    {
     "name": "stdout",
     "output_type": "stream",
     "text": [
      "r=5 pixel, subtract=-0.09981633974481952 pixel\n",
      "r=6 pixel, subtract=-0.41733552923254535 pixel\n",
      "r=7 pixel, subtract=0.021959974100184354 pixel\n",
      "r=8 pixel, subtract=-0.2219298297467276 pixel\n",
      "r=9 pixel, subtract=-0.18900494077320218 pixel\n",
      "r=10 pixel, subtract=-0.5192653589792826 pixel\n",
      "r=11 pixel, subtract=-1.2127110843648552 pixel\n",
      "r=12 pixel, subtract=-0.9893421169301746 pixel\n",
      "r=13 pixel, subtract=-0.4891584566749998 pixel\n",
      "r=14 pixel, subtract=-0.9921601035993035 pixel\n",
      "r=15 pixel, subtract=-0.41834705770338587 pixel\n",
      "r=16 pixel, subtract=-1.1677193189869968 pixel\n",
      "r=17 pixel, subtract=-0.20027688745017258 pixel\n",
      "r=18 pixel, subtract=-0.23601976309271322 pixel\n",
      "r=19 pixel, subtract=-0.4749479459151189 pixel\n",
      "r=20 pixel, subtract=-0.11706143591709406 pixel\n",
      "r=21 pixel, subtract=-0.7623602330986614 pixel\n",
      "r=22 pixel, subtract=-1.4508443374595572 pixel\n",
      "r=23 pixel, subtract=-0.26251374900016344 pixel\n",
      "r=24 pixel, subtract=-0.7173684677206893 pixel\n",
      "r=25 pixel, subtract=-0.5754084936206709 pixel\n",
      "r=26 pixel, subtract=-1.1966338267002357 pixel\n",
      "r=27 pixel, subtract=-2.021044466958756 pixel\n",
      "r=28 pixel, subtract=-2.0086404143976324 pixel\n",
      "r=29 pixel, subtract=-0.5994216690155554 pixel\n",
      "r=30 pixel, subtract=-0.1933882308135253 pixel\n",
      "r=31 pixel, subtract=-0.6305400997907782 pixel\n",
      "r=32 pixel, subtract=-1.9108772759477688 pixel\n",
      "r=33 pixel, subtract=-1.3143997592842425 pixel\n",
      "r=34 pixel, subtract=-0.6011075498008722 pixel\n",
      "r=35 pixel, subtract=-0.251000647496312 pixel\n",
      "r=36 pixel, subtract=-1.0640790523711985 pixel\n",
      "r=37 pixel, subtract=-1.2803427644266776 pixel\n",
      "r=38 pixel, subtract=-1.859791783660512 pixel\n",
      "r=39 pixel, subtract=-1.3624261100749209 pixel\n",
      "r=40 pixel, subtract=-1.548245743669213 pixel\n",
      "r=41 pixel, subtract=-0.97725068444106 pixel\n",
      "r=42 pixel, subtract=-1.7294409323949367 pixel\n",
      "r=43 pixel, subtract=-1.4048164875266593 pixel\n",
      "r=44 pixel, subtract=-1.7633773498382652 pixel\n",
      "r=45 pixel, subtract=-0.5651235193308821 pixel\n",
      "r=46 pixel, subtract=0.5899450039987642 pixel\n",
      "r=47 pixel, subtract=-0.5381717798518366 pixel\n",
      "r=48 pixel, subtract=-1.7094738708829027 pixel\n",
      "r=49 pixel, subtract=-0.6839612690919239 pixel\n",
      "r=50 pixel, subtract=-1.3016339744826837 pixel\n",
      "r=51 pixel, subtract=-0.9224919870512167 pixel\n",
      "r=52 pixel, subtract=-1.0665353067997785 pixel\n",
      "r=53 pixel, subtract=-1.9737639337290602 pixel\n",
      "r=54 pixel, subtract=-1.9641778678342234 pixel\n",
      "r=55 pixel, subtract=-2.317777109125018 pixel\n",
      "r=56 pixel, subtract=-2.0745616575895838 pixel\n",
      "r=57 pixel, subtract=-1.3945315132368705 pixel\n",
      "r=58 pixel, subtract=-1.237686676062367 pixel\n",
      "r=59 pixel, subtract=-1.4440271460680378 pixel\n"
     ]
    }
   ],
   "source": [
    "for r in range(5,60):\n",
    "    sub_area = np.sum((R <= r)*1.0)*div*div # subpixelでのaperture内の面積の計算\n",
    "    area = np.pi*r*r # 通常の半径の計算\n",
    "    subtract = sub_area - area #差分\n",
    "    print(\"r={} pixel, subtract={} pixel\".format(r, subtract))"
   ]
  },
  {
   "cell_type": "code",
   "execution_count": null,
   "metadata": {},
   "outputs": [],
   "source": []
  }
 ],
 "metadata": {
  "kernelspec": {
   "display_name": "Python 3",
   "language": "python",
   "name": "python3"
  },
  "language_info": {
   "codemirror_mode": {
    "name": "ipython",
    "version": 3
   },
   "file_extension": ".py",
   "mimetype": "text/x-python",
   "name": "python",
   "nbconvert_exporter": "python",
   "pygments_lexer": "ipython3",
   "version": "3.6.9"
  }
 },
 "nbformat": 4,
 "nbformat_minor": 2
}
